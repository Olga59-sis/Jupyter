{
  "cells": [
    {
      "cell_type": "markdown",
      "metadata": {
        "id": "view-in-github",
        "colab_type": "text"
      },
      "source": [
        "<a href=\"https://colab.research.google.com/github/Olga59-sis/Jupyter/blob/develop/Second.ipynb\" target=\"_parent\"><img src=\"https://colab.research.google.com/assets/colab-badge.svg\" alt=\"Open In Colab\"/></a>"
      ]
    },
    {
      "cell_type": "markdown",
      "id": "3db7759e",
      "metadata": {
        "id": "3db7759e"
      },
      "source": [
        "# Последовательность Фибоначчи"
      ]
    },
    {
      "cell_type": "code",
      "execution_count": null,
      "id": "d370d4e9",
      "metadata": {
        "id": "d370d4e9"
      },
      "outputs": [],
      "source": [
        "def fibonacci(sequence_length):\n",
        "    sequence = [0,1]\n",
        "    if sequence_length <1:\n",
        "        print(\"Последовательность Фибоначи не может иметь длину, меньшую 1.\")\n",
        "        return\n",
        "    if 0 <sequence_length < 3:\n",
        "        return sequence[0:sequence_length]\n",
        "    for i in range(2, sequence_length):\n",
        "        sequence.append(sequence[i-1]+sequence[i-2])\n",
        "    return sequence\n",
        "        "
      ]
    },
    {
      "cell_type": "code",
      "execution_count": null,
      "id": "e78ac872",
      "metadata": {
        "id": "e78ac872",
        "outputId": "cbab5a2c-57dc-42af-a0ff-e45021af0357"
      },
      "outputs": [
        {
          "data": {
            "text/plain": [
              "[0, 1, 1, 2, 3, 5, 8, 13, 21, 34, 55, 89]"
            ]
          },
          "execution_count": 2,
          "metadata": {},
          "output_type": "execute_result"
        }
      ],
      "source": [
        "fibonacci(12)\n"
      ]
    },
    {
      "cell_type": "code",
      "execution_count": null,
      "id": "28b6a951",
      "metadata": {
        "id": "28b6a951",
        "outputId": "774efaae-3acd-4b29-977d-d377ff8c9640"
      },
      "outputs": [
        {
          "data": {
            "text/plain": [
              "[0, 1]"
            ]
          },
          "execution_count": 3,
          "metadata": {},
          "output_type": "execute_result"
        }
      ],
      "source": [
        "fibonacci(2)"
      ]
    },
    {
      "cell_type": "code",
      "execution_count": null,
      "id": "c579d453",
      "metadata": {
        "id": "c579d453",
        "outputId": "ce3055f2-e98b-4d46-c2b9-cdb8dc2a9e3b"
      },
      "outputs": [
        {
          "name": "stdout",
          "output_type": "stream",
          "text": [
            "Последовательность Фибоначи не может иметь длину, меньшую 1.\n"
          ]
        }
      ],
      "source": [
        "fibonacci(0)"
      ]
    },
    {
      "cell_type": "markdown",
      "id": "5f09724f",
      "metadata": {
        "id": "5f09724f"
      },
      "source": [
        "# Бриллианты"
      ]
    },
    {
      "cell_type": "code",
      "execution_count": null,
      "id": "db8daa2e",
      "metadata": {
        "id": "db8daa2e",
        "outputId": "beda2b68-ec0e-4d78-bc74-1ecaef8a3d83"
      },
      "outputs": [
        {
          "data": {
            "text/html": [
              "<div>\n",
              "<style scoped>\n",
              "    .dataframe tbody tr th:only-of-type {\n",
              "        vertical-align: middle;\n",
              "    }\n",
              "\n",
              "    .dataframe tbody tr th {\n",
              "        vertical-align: top;\n",
              "    }\n",
              "\n",
              "    .dataframe thead th {\n",
              "        text-align: right;\n",
              "    }\n",
              "</style>\n",
              "<table border=\"1\" class=\"dataframe\">\n",
              "  <thead>\n",
              "    <tr style=\"text-align: right;\">\n",
              "      <th></th>\n",
              "      <th>carat</th>\n",
              "      <th>cut</th>\n",
              "      <th>color</th>\n",
              "      <th>clarity</th>\n",
              "      <th>depth</th>\n",
              "      <th>table</th>\n",
              "      <th>price</th>\n",
              "      <th>x</th>\n",
              "      <th>y</th>\n",
              "      <th>z</th>\n",
              "    </tr>\n",
              "  </thead>\n",
              "  <tbody>\n",
              "    <tr>\n",
              "      <th>0</th>\n",
              "      <td>0.23</td>\n",
              "      <td>Ideal</td>\n",
              "      <td>E</td>\n",
              "      <td>SI2</td>\n",
              "      <td>61.5</td>\n",
              "      <td>55.0</td>\n",
              "      <td>326</td>\n",
              "      <td>3.95</td>\n",
              "      <td>3.98</td>\n",
              "      <td>2.43</td>\n",
              "    </tr>\n",
              "    <tr>\n",
              "      <th>1</th>\n",
              "      <td>0.21</td>\n",
              "      <td>Premium</td>\n",
              "      <td>E</td>\n",
              "      <td>SI1</td>\n",
              "      <td>59.8</td>\n",
              "      <td>61.0</td>\n",
              "      <td>326</td>\n",
              "      <td>3.89</td>\n",
              "      <td>3.84</td>\n",
              "      <td>2.31</td>\n",
              "    </tr>\n",
              "    <tr>\n",
              "      <th>2</th>\n",
              "      <td>0.23</td>\n",
              "      <td>Good</td>\n",
              "      <td>E</td>\n",
              "      <td>VS1</td>\n",
              "      <td>56.9</td>\n",
              "      <td>65.0</td>\n",
              "      <td>327</td>\n",
              "      <td>4.05</td>\n",
              "      <td>4.07</td>\n",
              "      <td>2.31</td>\n",
              "    </tr>\n",
              "    <tr>\n",
              "      <th>3</th>\n",
              "      <td>0.29</td>\n",
              "      <td>Premium</td>\n",
              "      <td>I</td>\n",
              "      <td>VS2</td>\n",
              "      <td>62.4</td>\n",
              "      <td>58.0</td>\n",
              "      <td>334</td>\n",
              "      <td>4.20</td>\n",
              "      <td>4.23</td>\n",
              "      <td>2.63</td>\n",
              "    </tr>\n",
              "    <tr>\n",
              "      <th>4</th>\n",
              "      <td>0.31</td>\n",
              "      <td>Good</td>\n",
              "      <td>J</td>\n",
              "      <td>SI2</td>\n",
              "      <td>63.3</td>\n",
              "      <td>58.0</td>\n",
              "      <td>335</td>\n",
              "      <td>4.34</td>\n",
              "      <td>4.35</td>\n",
              "      <td>2.75</td>\n",
              "    </tr>\n",
              "  </tbody>\n",
              "</table>\n",
              "</div>"
            ],
            "text/plain": [
              "   carat      cut color clarity  depth  table  price     x     y     z\n",
              "0   0.23    Ideal     E     SI2   61.5   55.0    326  3.95  3.98  2.43\n",
              "1   0.21  Premium     E     SI1   59.8   61.0    326  3.89  3.84  2.31\n",
              "2   0.23     Good     E     VS1   56.9   65.0    327  4.05  4.07  2.31\n",
              "3   0.29  Premium     I     VS2   62.4   58.0    334  4.20  4.23  2.63\n",
              "4   0.31     Good     J     SI2   63.3   58.0    335  4.34  4.35  2.75"
            ]
          },
          "execution_count": 5,
          "metadata": {},
          "output_type": "execute_result"
        }
      ],
      "source": [
        "import numpy as np\n",
        "import pandas as pd\n",
        "import matplotlib.pyplot as plt\n",
        "import tkinter as tk\n",
        "import seaborn as sns\n",
        "\n",
        "data = pd.read_csv(\"p1_diamonds.csv\", header = 0)\n",
        "data = data.drop(\"Unnamed: 0\", axis =1)\n",
        "data.head()"
      ]
    },
    {
      "cell_type": "markdown",
      "id": "b16250e3",
      "metadata": {
        "id": "b16250e3"
      },
      "source": [
        "# Графики"
      ]
    },
    {
      "cell_type": "code",
      "execution_count": null,
      "id": "8c0f4928",
      "metadata": {
        "id": "8c0f4928",
        "outputId": "c6ba96f1-3953-41e0-bc11-bab7ec105038"
      },
      "outputs": [
        {
          "data": {
            "image/png": "[encoded data removed]",
            "text/plain": [
              "<Figure size 640x480 with 1 Axes>"
            ]
          },
          "metadata": {},
          "output_type": "display_data"
        }
      ],
      "source": [
        "plt.hist(data[\"price\"], bins = 150)\n",
        " \n",
        "# Добаление заголовка\n",
        "plt.title(\"Частотный график: Цены на бриллианты\\n\", fontdict={'fontsize': 20, 'fontweight' : 20, 'color' : 'Green'})\n",
        "\n",
        "plt.xlabel(\"Цена\", fontdict={'fontsize': 12, 'fontweight': 20, 'color' : 'Brown'})\n",
        "plt.ylabel(\"Количество\", fontdict={'fontsize': 12, 'fontweight': 20, 'color': 'Brown'})\n",
        "\n",
        "plt.show()\n",
        "    "
      ]
    },
    {
      "cell_type": "code",
      "execution_count": null,
      "id": "944a3555",
      "metadata": {
        "scrolled": false,
        "id": "944a3555",
        "outputId": "c2a18315-52bc-44cd-d501-817122feebe7"
      },
      "outputs": [
        {
          "data": {
            "image/png": "[encoded data removed]",
            "text/plain": [
              "<Figure size 640x480 with 1 Axes>"
            ]
          },
          "metadata": {},
          "output_type": "display_data"
        }
      ],
      "source": [
        "groupdata = data.groupby(\"cut\").count()\n",
        "groupdata\n",
        "\n",
        "x_vals = []\n",
        "y_vals = []\n",
        "for i in[0, 1, 4, 3, 2]:\n",
        "    x_vals.append(groupdata.index[i])\n",
        "    y_vals.append(groupdata.iloc[i, 2])\n",
        "     \n",
        "plt.bar(x_vals, y_vals)\n",
        "\n",
        "plt.title(\"Частотный график: Огранка бриллиантов\\n\", fontdict={'fontsize' : 20, 'fontweight' : 20, 'color' : 'Green'})\n",
        "\n",
        "plt.xlabel(\"Огранка\", fontdict={'fontsize' : 12, 'fontweight' : 20, 'color' : 'Brown'})\n",
        "plt.ylabel(\"Количество\", fontdict={'fontsize' : 12,'fontweight' : 20, 'color' : 'Brown'})\n",
        "                                   \n",
        "plt.show()"
      ]
    },
    {
      "cell_type": "code",
      "execution_count": null,
      "id": "e6785289",
      "metadata": {
        "id": "e6785289"
      },
      "outputs": [],
      "source": []
    }
  ],
  "metadata": {
    "kernelspec": {
      "display_name": "Python 3 (ipykernel)",
      "language": "python",
      "name": "python3"
    },
    "language_info": {
      "codemirror_mode": {
        "name": "ipython",
        "version": 3
      },
      "file_extension": ".py",
      "mimetype": "text/x-python",
      "name": "python",
      "nbconvert_exporter": "python",
      "pygments_lexer": "ipython3",
      "version": "3.9.6"
    },
    "colab": {
      "provenance": [],
      "include_colab_link": true
    }
  },
  "nbformat": 4,
  "nbformat_minor": 5
}